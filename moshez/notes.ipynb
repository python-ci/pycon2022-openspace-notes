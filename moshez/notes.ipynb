{
 "cells": [
  {
   "cell_type": "markdown",
   "id": "c2862c9c-2c59-46ed-a68b-f2d9b89e45c5",
   "metadata": {},
   "source": [
    "# Moshe'z Notes"
   ]
  },
  {
   "cell_type": "markdown",
   "id": "44097899-bdc7-4463-94a8-97cb05f4c328",
   "metadata": {},
   "source": [
    "# Log\n",
    "\n",
    "* Where do you learn more about CI? Mostly you get stuff from copy/paste from examples?\n",
    "  * How do you test with different implementations?\n",
    "  * Explore how to run your own runner and connect it to something like GHA\n",
    "* Get Patch on CI better is a huge ROI\n",
    "  * Actionability -- if you take advantage containers\n",
    "* CI is often stateless and lacks caching -- this can make things much slower\n",
    "  * Caching support is either rudimentary or doesn't exist\n",
    "  * Best thing you can hope for is save/restory directory\n",
    "  * For example, caching the state of your build\n",
    "  * Directory save/restore doesn't interact well with concurrency\n",
    "  * It can also be slow, so not a win\n",
    "  * Fine-grained caching: an explicit \"cache this fact for this build\"\n",
    "  * This can also make the \"Cache directory\" bigger and bigger\n",
    "  * Caching API from an Object Store\n",
    "  * Pants can use a remote cache, but it's complicated\n",
    "* What do you use for CI?\n",
    "  * Self-hosted Jenkins\n",
    "    * It feels dated\n",
    "    * It's scary to manage!\n",
    "    * Groovy + Bash + Stuff\n",
    "  * Self-hosted GitLab CI/CD\n",
    "  * Public GitHub Actions\n",
    "    * Good support for open source projects!\n",
    "  * CirlceCI\n",
    "* Sometimes CI is related to compliance (e.g., health, finance)\n",
    "* At what point can CI use synthetic data? This is not always trivial\n",
    "  * This can become important for systems interacting with physical data gathering devices, like health measurement data\n",
    "  * It can be useful to break it into the parts that interact with real-world things, and to the parts that are purely software/computers.\n",
    "  * Realistic synthetic data is important -- lightning talk yesterday!\n",
    "* Chris is giving a talk about Pants tomorrow!"
   ]
  },
  {
   "cell_type": "markdown",
   "id": "11233f7c-ec48-473c-a20f-d2c1bb0b218a",
   "metadata": {},
   "source": [
    "# Follow ups\n",
    "\n",
    "* Look into how remote caching works with pants\n"
   ]
  }
 ],
 "metadata": {
  "kernelspec": {
   "display_name": "Python 3 (ipykernel)",
   "language": "python",
   "name": "python3"
  },
  "language_info": {
   "codemirror_mode": {
    "name": "ipython",
    "version": 3
   },
   "file_extension": ".py",
   "mimetype": "text/x-python",
   "name": "python",
   "nbconvert_exporter": "python",
   "pygments_lexer": "ipython3",
   "version": "3.10.2"
  }
 },
 "nbformat": 4,
 "nbformat_minor": 5
}
